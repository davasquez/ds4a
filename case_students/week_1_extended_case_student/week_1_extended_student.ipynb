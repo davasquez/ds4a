{
 "cells": [
  {
   "cell_type": "markdown",
   "metadata": {},
   "source": [
    "# How can we control the increasing number of accidents in New York?"
   ]
  },
  {
   "cell_type": "code",
   "execution_count": 1,
   "metadata": {},
   "outputs": [],
   "source": [
    "import json\n",
    "import requests\n",
    "from bs4 import BeautifulSoup\n",
    "import pandas as pd\n",
    "import matplotlib.pyplot as plt\n",
    "import seaborn as sns"
   ]
  },
  {
   "cell_type": "markdown",
   "metadata": {},
   "source": [
    "## Introduction"
   ]
  },
  {
   "cell_type": "markdown",
   "metadata": {},
   "source": [
    "**Business Context.** The city of New York has seen a rise in the number of accidents on the roads in the city. They would like to know if the number of accidents have increased in the last few weeks. For all the reported accidents, they have collected details for each accident and have been maintaining records for the past year and a half (from January 2018 to August 2019). \n",
    "\n",
    "The city has contracted you to build visualizations that would help them identify patterns in accidents, which would help them take preventive actions to reduce the number of accidents in the future. They have certain parameters like borough, time of day, reason for accident, etc. Which they care about and which they would like to get specific information on."
   ]
  },
  {
   "cell_type": "markdown",
   "metadata": {},
   "source": [
    "**Business Problem.** Your task is to format the given data and provide visualizations that would answer the specific questions the client has, which are mentioned below."
   ]
  },
  {
   "cell_type": "markdown",
   "metadata": {},
   "source": [
    "**Analytical Context.** You are given a CSV file containing details about each accident like date, time, location of the accident, reason for the accident, types of vehicles involved, injury and death count, etc. The delimiter in the given CSV file is `;` instead of the default `,`. You will be performing the following tasks on the data:\n",
    "\n",
    "1. Extract data from Wikipedia\n",
    "2. Read, transform, and prepare data for visualization\n",
    "3. Perform analytics and construct visualizations of the data to identify patterns in the dataset\n",
    "        \n",
    "The client has a specific set of questions they would like to get answers to. You will need to provide visualizations to accompany these:\n",
    "\n",
    "1. How have the number of accidents fluctuated over the past year and a half? Have they increased over the time?\n",
    "2. For any particular day, during which hours are accidents most likely to occur?\n",
    "3. Are there more accidents on weekdays than weekends?\n",
    "4. What are the accidents count-to-area ratio per borough? Which boroughs have disproportionately large numbers of accidents for their size?\n",
    "5. For each borough, during which hours are accidents most likely to occur?\n",
    "6. What are the top 5 causes of accidents in the city? \n",
    "7. What types of vehicles are most involved in accidents per borough?\n",
    "8. What types of vehicles are most involved in deaths?"
   ]
  },
  {
   "cell_type": "markdown",
   "metadata": {},
   "source": [
    "## Fetch borough data from Wikipedia"
   ]
  },
  {
   "cell_type": "markdown",
   "metadata": {},
   "source": [
    "The client has requested analysis of the accidents-to-area ratio for boroughs. You will need to fetch the area of each borough from the Wikipedia page: https://en.wikipedia.org/wiki/Boroughs_of_New_York_City.\n",
    "\n",
    "Since we are fetching this resource from an external page, you should instead fetch the HTML document and store the results locally in a JSON file, so that you can parse it later when you need it. Create a folder named `data` and store the file inside it."
   ]
  },
  {
   "cell_type": "markdown",
   "metadata": {},
   "source": [
    "Insert **answer** below:"
   ]
  },
  {
   "cell_type": "code",
   "execution_count": 2,
   "metadata": {},
   "outputs": [],
   "source": [
    "# Code here\n",
    "html = requests.get('https://en.wikipedia.org/wiki/Boroughs_of_New_York_City')\n",
    "with open('data/boroughs.html', 'w') as f:\n",
    "    f.write(html.text)"
   ]
  },
  {
   "cell_type": "markdown",
   "metadata": {},
   "source": [
    "For later usage, let's store the borough data into a JSON file in the already created `data` folder:"
   ]
  },
  {
   "cell_type": "code",
   "execution_count": 3,
   "metadata": {},
   "outputs": [
    {
     "data": {
      "text/plain": [
       "{'BRONX': '109.04',\n",
       " 'BROOKLYN': '183.42',\n",
       " 'MANHATTAN': '59.13',\n",
       " 'QUEENS': '281.09',\n",
       " 'STATEN ISLAND': '151.18'}"
      ]
     },
     "execution_count": 3,
     "metadata": {},
     "output_type": "execute_result"
    }
   ],
   "source": [
    "# Code here\n",
    "with open('data/boroughs.html', \"r\") as f:\n",
    "    html_content = f.read()\n",
    "    \n",
    "soup = BeautifulSoup(html_content, 'html.parser')\n",
    "brows = soup.findAll('tr', attrs={'style':'background:f9f9f9;'})\n",
    "barea_km = {}\n",
    "for brow in brows:\n",
    "    btds = brow.findAll('td')\n",
    "    b = btds[0].text.rstrip().upper()\n",
    "    if b == 'THE BRONX':\n",
    "        b = 'BRONX'\n",
    "    barea_km[b] = btds[6].text.rstrip()\n",
    "\n",
    "with open('data/boroughs_area_km.json', 'w') as f:\n",
    "    json.dump(barea_km, f)    \n",
    "    \n",
    "barea_km"
   ]
  },
  {
   "cell_type": "markdown",
   "metadata": {},
   "source": [
    "## Overview of the data"
   ]
  },
  {
   "cell_type": "markdown",
   "metadata": {},
   "source": [
    "Now that we've stored the borough data in a JSON file, we can re-open it and use it whenever we wish. We can use the `read_json()` function in `pandas` to do that:"
   ]
  },
  {
   "cell_type": "code",
   "execution_count": 4,
   "metadata": {},
   "outputs": [
    {
     "data": {
      "text/html": [
       "<div>\n",
       "<style scoped>\n",
       "    .dataframe tbody tr th:only-of-type {\n",
       "        vertical-align: middle;\n",
       "    }\n",
       "\n",
       "    .dataframe tbody tr th {\n",
       "        vertical-align: top;\n",
       "    }\n",
       "\n",
       "    .dataframe thead th {\n",
       "        text-align: right;\n",
       "    }\n",
       "</style>\n",
       "<table border=\"1\" class=\"dataframe\">\n",
       "  <thead>\n",
       "    <tr style=\"text-align: right;\">\n",
       "      <th></th>\n",
       "      <th>BRONX</th>\n",
       "      <th>BROOKLYN</th>\n",
       "      <th>MANHATTAN</th>\n",
       "      <th>QUEENS</th>\n",
       "      <th>STATEN ISLAND</th>\n",
       "    </tr>\n",
       "  </thead>\n",
       "  <tbody>\n",
       "    <tr>\n",
       "      <th>0</th>\n",
       "      <td>109.04</td>\n",
       "      <td>183.42</td>\n",
       "      <td>59.13</td>\n",
       "      <td>281.09</td>\n",
       "      <td>151.18</td>\n",
       "    </tr>\n",
       "  </tbody>\n",
       "</table>\n",
       "</div>"
      ],
      "text/plain": [
       "    BRONX  BROOKLYN  MANHATTAN  QUEENS  STATEN ISLAND\n",
       "0  109.04    183.42      59.13  281.09         151.18"
      ]
     },
     "execution_count": 4,
     "metadata": {},
     "output_type": "execute_result"
    }
   ],
   "source": [
    "# Code here\n",
    "barea = pd.read_json('data/boroughs_area_km.json', lines=True)\n",
    "barea['BROOKLYN'][0]\n",
    "barea"
   ]
  },
  {
   "cell_type": "markdown",
   "metadata": {},
   "source": [
    "Let's go through the columns present in the dataframe:"
   ]
  },
  {
   "cell_type": "code",
   "execution_count": 5,
   "metadata": {},
   "outputs": [
    {
     "data": {
      "text/html": [
       "<div>\n",
       "<style scoped>\n",
       "    .dataframe tbody tr th:only-of-type {\n",
       "        vertical-align: middle;\n",
       "    }\n",
       "\n",
       "    .dataframe tbody tr th {\n",
       "        vertical-align: top;\n",
       "    }\n",
       "\n",
       "    .dataframe thead th {\n",
       "        text-align: right;\n",
       "    }\n",
       "</style>\n",
       "<table border=\"1\" class=\"dataframe\">\n",
       "  <thead>\n",
       "    <tr style=\"text-align: right;\">\n",
       "      <th></th>\n",
       "      <th>DATE</th>\n",
       "      <th>TIME</th>\n",
       "      <th>BOROUGH</th>\n",
       "      <th>ZIP CODE</th>\n",
       "      <th>LATITUDE</th>\n",
       "      <th>LONGITUDE</th>\n",
       "      <th>ON STREET NAME</th>\n",
       "      <th>NUMBER OF PEDESTRIANS INJURED</th>\n",
       "      <th>NUMBER OF PEDESTRIANS KILLED</th>\n",
       "      <th>NUMBER OF CYCLIST INJURED</th>\n",
       "      <th>...</th>\n",
       "      <th>CONTRIBUTING FACTOR VEHICLE 2</th>\n",
       "      <th>CONTRIBUTING FACTOR VEHICLE 3</th>\n",
       "      <th>CONTRIBUTING FACTOR VEHICLE 4</th>\n",
       "      <th>CONTRIBUTING FACTOR VEHICLE 5</th>\n",
       "      <th>COLLISION_ID</th>\n",
       "      <th>VEHICLE TYPE CODE 1</th>\n",
       "      <th>VEHICLE TYPE CODE 2</th>\n",
       "      <th>VEHICLE TYPE CODE 3</th>\n",
       "      <th>VEHICLE TYPE CODE 4</th>\n",
       "      <th>VEHICLE TYPE CODE 5</th>\n",
       "    </tr>\n",
       "  </thead>\n",
       "  <tbody>\n",
       "    <tr>\n",
       "      <th>0</th>\n",
       "      <td>09/26/2018</td>\n",
       "      <td>12:12</td>\n",
       "      <td>BRONX</td>\n",
       "      <td>10454.0</td>\n",
       "      <td>40.808987</td>\n",
       "      <td>-73.911316</td>\n",
       "      <td>NaN</td>\n",
       "      <td>0</td>\n",
       "      <td>0</td>\n",
       "      <td>0</td>\n",
       "      <td>...</td>\n",
       "      <td>NaN</td>\n",
       "      <td>NaN</td>\n",
       "      <td>NaN</td>\n",
       "      <td>NaN</td>\n",
       "      <td>3988123</td>\n",
       "      <td>Sedan</td>\n",
       "      <td>NaN</td>\n",
       "      <td>NaN</td>\n",
       "      <td>NaN</td>\n",
       "      <td>NaN</td>\n",
       "    </tr>\n",
       "    <tr>\n",
       "      <th>1</th>\n",
       "      <td>09/25/2018</td>\n",
       "      <td>16:30</td>\n",
       "      <td>BROOKLYN</td>\n",
       "      <td>11236.0</td>\n",
       "      <td>40.636005</td>\n",
       "      <td>-73.912510</td>\n",
       "      <td>FLATLANDS AVENUE</td>\n",
       "      <td>1</td>\n",
       "      <td>0</td>\n",
       "      <td>0</td>\n",
       "      <td>...</td>\n",
       "      <td>NaN</td>\n",
       "      <td>NaN</td>\n",
       "      <td>NaN</td>\n",
       "      <td>NaN</td>\n",
       "      <td>3987962</td>\n",
       "      <td>Sedan</td>\n",
       "      <td>NaN</td>\n",
       "      <td>NaN</td>\n",
       "      <td>NaN</td>\n",
       "      <td>NaN</td>\n",
       "    </tr>\n",
       "    <tr>\n",
       "      <th>2</th>\n",
       "      <td>08/22/2019</td>\n",
       "      <td>19:30</td>\n",
       "      <td>QUEENS</td>\n",
       "      <td>11101.0</td>\n",
       "      <td>40.755490</td>\n",
       "      <td>-73.939530</td>\n",
       "      <td>NaN</td>\n",
       "      <td>0</td>\n",
       "      <td>0</td>\n",
       "      <td>0</td>\n",
       "      <td>...</td>\n",
       "      <td>NaN</td>\n",
       "      <td>NaN</td>\n",
       "      <td>NaN</td>\n",
       "      <td>NaN</td>\n",
       "      <td>4193132</td>\n",
       "      <td>Sedan</td>\n",
       "      <td>NaN</td>\n",
       "      <td>NaN</td>\n",
       "      <td>NaN</td>\n",
       "      <td>NaN</td>\n",
       "    </tr>\n",
       "    <tr>\n",
       "      <th>3</th>\n",
       "      <td>09/23/2018</td>\n",
       "      <td>13:10</td>\n",
       "      <td>QUEENS</td>\n",
       "      <td>11367.0</td>\n",
       "      <td>NaN</td>\n",
       "      <td>NaN</td>\n",
       "      <td>MAIN STREET</td>\n",
       "      <td>0</td>\n",
       "      <td>0</td>\n",
       "      <td>1</td>\n",
       "      <td>...</td>\n",
       "      <td>Unspecified</td>\n",
       "      <td>NaN</td>\n",
       "      <td>NaN</td>\n",
       "      <td>NaN</td>\n",
       "      <td>3985962</td>\n",
       "      <td>Bike</td>\n",
       "      <td>Station Wagon/Sport Utility Vehicle</td>\n",
       "      <td>NaN</td>\n",
       "      <td>NaN</td>\n",
       "      <td>NaN</td>\n",
       "    </tr>\n",
       "    <tr>\n",
       "      <th>4</th>\n",
       "      <td>08/20/2019</td>\n",
       "      <td>22:40</td>\n",
       "      <td>BRONX</td>\n",
       "      <td>10468.0</td>\n",
       "      <td>40.868336</td>\n",
       "      <td>-73.901270</td>\n",
       "      <td>NaN</td>\n",
       "      <td>0</td>\n",
       "      <td>0</td>\n",
       "      <td>0</td>\n",
       "      <td>...</td>\n",
       "      <td>Unspecified</td>\n",
       "      <td>NaN</td>\n",
       "      <td>NaN</td>\n",
       "      <td>NaN</td>\n",
       "      <td>4192111</td>\n",
       "      <td>Sedan</td>\n",
       "      <td>Sedan</td>\n",
       "      <td>NaN</td>\n",
       "      <td>NaN</td>\n",
       "      <td>NaN</td>\n",
       "    </tr>\n",
       "  </tbody>\n",
       "</table>\n",
       "<p>5 rows × 24 columns</p>\n",
       "</div>"
      ],
      "text/plain": [
       "         DATE   TIME   BOROUGH  ZIP CODE   LATITUDE  LONGITUDE  \\\n",
       "0  09/26/2018  12:12     BRONX   10454.0  40.808987 -73.911316   \n",
       "1  09/25/2018  16:30  BROOKLYN   11236.0  40.636005 -73.912510   \n",
       "2  08/22/2019  19:30    QUEENS   11101.0  40.755490 -73.939530   \n",
       "3  09/23/2018  13:10    QUEENS   11367.0        NaN        NaN   \n",
       "4  08/20/2019  22:40     BRONX   10468.0  40.868336 -73.901270   \n",
       "\n",
       "                     ON STREET NAME  NUMBER OF PEDESTRIANS INJURED  \\\n",
       "0                               NaN                              0   \n",
       "1  FLATLANDS AVENUE                                              1   \n",
       "2                               NaN                              0   \n",
       "3  MAIN STREET                                                   0   \n",
       "4                               NaN                              0   \n",
       "\n",
       "   NUMBER OF PEDESTRIANS KILLED  NUMBER OF CYCLIST INJURED  ...  \\\n",
       "0                             0                          0  ...   \n",
       "1                             0                          0  ...   \n",
       "2                             0                          0  ...   \n",
       "3                             0                          1  ...   \n",
       "4                             0                          0  ...   \n",
       "\n",
       "   CONTRIBUTING FACTOR VEHICLE 2  CONTRIBUTING FACTOR VEHICLE 3  \\\n",
       "0                            NaN                            NaN   \n",
       "1                            NaN                            NaN   \n",
       "2                            NaN                            NaN   \n",
       "3                    Unspecified                            NaN   \n",
       "4                    Unspecified                            NaN   \n",
       "\n",
       "   CONTRIBUTING FACTOR VEHICLE 4 CONTRIBUTING FACTOR VEHICLE 5 COLLISION_ID  \\\n",
       "0                            NaN                           NaN      3988123   \n",
       "1                            NaN                           NaN      3987962   \n",
       "2                            NaN                           NaN      4193132   \n",
       "3                            NaN                           NaN      3985962   \n",
       "4                            NaN                           NaN      4192111   \n",
       "\n",
       "  VEHICLE TYPE CODE 1                  VEHICLE TYPE CODE 2  \\\n",
       "0               Sedan                                  NaN   \n",
       "1               Sedan                                  NaN   \n",
       "2               Sedan                                  NaN   \n",
       "3                Bike  Station Wagon/Sport Utility Vehicle   \n",
       "4               Sedan                                Sedan   \n",
       "\n",
       "  VEHICLE TYPE CODE 3  VEHICLE TYPE CODE 4 VEHICLE TYPE CODE 5  \n",
       "0                 NaN                  NaN                 NaN  \n",
       "1                 NaN                  NaN                 NaN  \n",
       "2                 NaN                  NaN                 NaN  \n",
       "3                 NaN                  NaN                 NaN  \n",
       "4                 NaN                  NaN                 NaN  \n",
       "\n",
       "[5 rows x 24 columns]"
      ]
     },
     "execution_count": 5,
     "metadata": {},
     "output_type": "execute_result"
    }
   ],
   "source": [
    "accidents_df = pd.read_csv('accidents.csv', sep=';')\n",
    "accidents_df.head()"
   ]
  },
  {
   "cell_type": "code",
   "execution_count": 6,
   "metadata": {},
   "outputs": [
    {
     "ename": "NameError",
     "evalue": "name 'df' is not defined",
     "output_type": "error",
     "traceback": [
      "\u001b[0;31m---------------------------------------------------------------------------\u001b[0m",
      "\u001b[0;31mNameError\u001b[0m                                 Traceback (most recent call last)",
      "\u001b[0;32m<ipython-input-6-b666bf274d0a>\u001b[0m in \u001b[0;36m<module>\u001b[0;34m\u001b[0m\n\u001b[0;32m----> 1\u001b[0;31m \u001b[0mdf\u001b[0m\u001b[0;34m.\u001b[0m\u001b[0mcolumns\u001b[0m\u001b[0;34m\u001b[0m\u001b[0;34m\u001b[0m\u001b[0m\n\u001b[0m",
      "\u001b[0;31mNameError\u001b[0m: name 'df' is not defined"
     ]
    }
   ],
   "source": [
    "df.columns"
   ]
  },
  {
   "cell_type": "markdown",
   "metadata": {},
   "source": [
    "We have the following columns\n",
    "\n",
    "1. **Borough**: The borough in which the accident occured\n",
    "2. **COLLISION_ID**: A unique identifier for this collision\n",
    "3. **CONTRIBUTING FACTOR VEHICLE (1, 2, 3, 4, 5)**: Reasons for the accident\n",
    "4. **CROSS STREET NAME**: Nearest cross street to the place of accidents\n",
    "5. **DATE**: Date of the accident\n",
    "6. **TIME**: Time of accident\n",
    "7. **DATETIME**: The column we previously created with the combination of date and time\n",
    "8. **LATITUDE**: Latitude of the accident\n",
    "9. **LONGITUDE**: Longitude of the accident\n",
    "10. **NUMBER OF (CYCLIST, MOTORIST, PEDESTRIANS) INJURED**: Category wise injury\n",
    "11. **NUMBER OF (CYCLIST, MOTORIST, PEDESTRIANS) KILLED**: Category wise death\n",
    "12. **ON STREET NAME**: Street where the accident occured\n",
    "13. **TOTAL INJURED**: Total injury from the accident\n",
    "14. **TOTAL KILLED**: Total casualties in the accident\n",
    "15. **VEHICLE TYPE CODE (1, 2, 3, 4, 5)**: Types of vehicles involved in the accident\n",
    "16. **ZIP CODE**: zip code of the accident location"
   ]
  },
  {
   "cell_type": "markdown",
   "metadata": {},
   "source": [
    "Let's go ahead and answer each of the client's questions."
   ]
  },
  {
   "cell_type": "markdown",
   "metadata": {},
   "source": [
    "## Answering the client's questions"
   ]
  },
  {
   "cell_type": "markdown",
   "metadata": {},
   "source": [
    "### Part 1: Accidents over time"
   ]
  },
  {
   "cell_type": "markdown",
   "metadata": {},
   "source": [
    "Group the available data on a monthly basis and generate a line plot of accidents over time. Has the number of accidents increased over the past year and a half?"
   ]
  },
  {
   "cell_type": "markdown",
   "metadata": {},
   "source": [
    "Insert **answer** below:"
   ]
  },
  {
   "cell_type": "code",
   "execution_count": 7,
   "metadata": {},
   "outputs": [
    {
     "data": {
      "text/plain": [
       "([0, 1, 2, 3, 4, 5, 6, 7, 8, 9, 10, 11, 12, 13, 14, 15, 16, 17, 18, 19],\n",
       " <a list of 20 Text xticklabel objects>)"
      ]
     },
     "execution_count": 7,
     "metadata": {},
     "output_type": "execute_result"
    },
    {
     "data": {
      "image/png": "[encoded data removed]",
      "text/plain": [
       "<Figure size 1080x216 with 1 Axes>"
      ]
     },
     "metadata": {
      "needs_background": "light"
     },
     "output_type": "display_data"
    }
   ],
   "source": [
    "# Code here\n",
    "accidents_df['MONTH'] = accidents_df.apply(lambda row: row['DATE'][6:]+'/'+row['DATE'][:2], axis=1)\n",
    "acc_by_month_df = accidents_df.groupby('MONTH')['DATE'].count()\n",
    "\n",
    "fig, ax = plt.subplots(figsize=(15,3))\n",
    "ax.plot(acc_by_month_df)\n",
    "plt.title('Number of accidents per month')\n",
    "plt.xlabel('Month');\n",
    "plt.xticks(rotation=90)"
   ]
  },
  {
   "cell_type": "markdown",
   "metadata": {},
   "source": [
    "**Type your answer to the question in this cell**\n",
    "\n",
    "*Has the number of accidents increased over the past year and a half?*\n",
    "\n",
    "No, the curve is rather constant. In fact, the last month, i.e. 2019/08 the number accidents decreased. However, it seems the data is incompleted, given that there is no data from 08/25/2019"
   ]
  },
  {
   "cell_type": "markdown",
   "metadata": {},
   "source": [
    "### Part 2: Accident hotspots in a day"
   ]
  },
  {
   "cell_type": "markdown",
   "metadata": {},
   "source": [
    "How does the number of accidents vary throughout a single day? Create a new column `HOUR` based on the data from the `DATETIME` column, then plot a bar graph of the distribution per hour throughout the day."
   ]
  },
  {
   "cell_type": "markdown",
   "metadata": {},
   "source": [
    "Insert **answer** below:"
   ]
  },
  {
   "cell_type": "code",
   "execution_count": 8,
   "metadata": {},
   "outputs": [
    {
     "data": {
      "text/plain": [
       "Text(0.5, 0, 'Hour')"
      ]
     },
     "execution_count": 8,
     "metadata": {},
     "output_type": "execute_result"
    },
    {
     "data": {
      "image/png": "[encoded data removed]",
      "text/plain": [
       "<Figure size 1080x360 with 1 Axes>"
      ]
     },
     "metadata": {
      "needs_background": "light"
     },
     "output_type": "display_data"
    }
   ],
   "source": [
    "# Code here\n",
    "accidents_df.head()\n",
    "accidents_df['HOUR'] = accidents_df.apply(lambda row: \"0\"+row['TIME'][:1] if \":\" in row['TIME'][:2] else row['TIME'][:2], axis=1)\n",
    "hours = accidents_df.groupby('HOUR')['HOUR'].count()\n",
    "\n",
    "fig, ax = plt.subplots(figsize=(15,5))\n",
    "plt.bar(hours.index, hours)\n",
    "plt.title('Number of accidents per hour')\n",
    "plt.xlabel('Hour')"
   ]
  },
  {
   "cell_type": "markdown",
   "metadata": {},
   "source": [
    "**Type your answer to the question in this cell**\n",
    "\n",
    "There is an initial peak at 8, then the number of accidents starts increasing until 14. From there, the number of accidents remains in its highest peak during the day until 18, where it starts decreasing."
   ]
  },
  {
   "cell_type": "markdown",
   "metadata": {},
   "source": [
    "### Part 3: Accidents by weekday"
   ]
  },
  {
   "cell_type": "markdown",
   "metadata": {},
   "source": [
    "How does the number of accidents vary throughout a single week? Plot a bar graph based on the accidents count by day of the week."
   ]
  },
  {
   "cell_type": "markdown",
   "metadata": {},
   "source": [
    "Insert **answer** below:"
   ]
  },
  {
   "cell_type": "code",
   "execution_count": 9,
   "metadata": {},
   "outputs": [
    {
     "data": {
      "text/plain": [
       "Text(0.5, 0, 'Weekday')"
      ]
     },
     "execution_count": 9,
     "metadata": {},
     "output_type": "execute_result"
    },
    {
     "data": {
      "image/png": "[encoded data removed]",
      "text/plain": [
       "<Figure size 1080x360 with 1 Axes>"
      ]
     },
     "metadata": {
      "needs_background": "light"
     },
     "output_type": "display_data"
    }
   ],
   "source": [
    "# Code here\n",
    "import datetime\n",
    "\n",
    "accidents_df['WEEKDAY'] = accidents_df['DATE'].apply(lambda x: datetime.datetime.strptime(str(x), \"%m/%d/%Y\").strftime(\"%A\"))\n",
    "accidents_df.head()\n",
    "days = accidents_df.groupby('WEEKDAY')['WEEKDAY'].count()\n",
    "days_ordered = days.reindex(['Monday', 'Tuesday', 'Wednesday', 'Thursday', 'Friday', 'Saturday', 'Sunday'])\n",
    "\n",
    "fig, ax = plt.subplots(figsize=(15,5))\n",
    "plt.bar(days_ordered.index, days_ordered)\n",
    "plt.title('Number of accidents per weekday')\n",
    "plt.xlabel('Weekday')"
   ]
  },
  {
   "cell_type": "markdown",
   "metadata": {},
   "source": [
    "**Type your answer to the question in this cell**\n",
    "\n",
    "The number of accidents increase slightly from Monday to Friday, where Fridays present the highest number of accidents. Then on Saturday and Sunday decrease where Sundays has the lowest number of accidents"
   ]
  },
  {
   "cell_type": "markdown",
   "metadata": {},
   "source": [
    "### Part 4: Borough analysis"
   ]
  },
  {
   "cell_type": "markdown",
   "metadata": {},
   "source": [
    "Plot a bar graph of the total number of accidents in each borough, as well as one of the accidents per square kilometer per borough. What can you conclude?"
   ]
  },
  {
   "cell_type": "markdown",
   "metadata": {},
   "source": [
    "Insert **answer** below:"
   ]
  },
  {
   "cell_type": "code",
   "execution_count": 10,
   "metadata": {},
   "outputs": [
    {
     "data": {
      "text/html": [
       "<div>\n",
       "<style scoped>\n",
       "    .dataframe tbody tr th:only-of-type {\n",
       "        vertical-align: middle;\n",
       "    }\n",
       "\n",
       "    .dataframe tbody tr th {\n",
       "        vertical-align: top;\n",
       "    }\n",
       "\n",
       "    .dataframe thead th {\n",
       "        text-align: right;\n",
       "    }\n",
       "</style>\n",
       "<table border=\"1\" class=\"dataframe\">\n",
       "  <thead>\n",
       "    <tr style=\"text-align: right;\">\n",
       "      <th></th>\n",
       "      <th>NACCIDENTS</th>\n",
       "      <th>NACCPERSKM</th>\n",
       "    </tr>\n",
       "    <tr>\n",
       "      <th>BOROUGH</th>\n",
       "      <th></th>\n",
       "      <th></th>\n",
       "    </tr>\n",
       "  </thead>\n",
       "  <tbody>\n",
       "    <tr>\n",
       "      <th>BRONX</th>\n",
       "      <td>37709</td>\n",
       "      <td>345.83</td>\n",
       "    </tr>\n",
       "    <tr>\n",
       "      <th>BROOKLYN</th>\n",
       "      <td>76253</td>\n",
       "      <td>415.73</td>\n",
       "    </tr>\n",
       "    <tr>\n",
       "      <th>MANHATTAN</th>\n",
       "      <td>48749</td>\n",
       "      <td>824.44</td>\n",
       "    </tr>\n",
       "    <tr>\n",
       "      <th>QUEENS</th>\n",
       "      <td>67120</td>\n",
       "      <td>238.78</td>\n",
       "    </tr>\n",
       "    <tr>\n",
       "      <th>STATEN ISLAND</th>\n",
       "      <td>8691</td>\n",
       "      <td>57.49</td>\n",
       "    </tr>\n",
       "  </tbody>\n",
       "</table>\n",
       "</div>"
      ],
      "text/plain": [
       "               NACCIDENTS  NACCPERSKM\n",
       "BOROUGH                              \n",
       "BRONX               37709      345.83\n",
       "BROOKLYN            76253      415.73\n",
       "MANHATTAN           48749      824.44\n",
       "QUEENS              67120      238.78\n",
       "STATEN ISLAND        8691       57.49"
      ]
     },
     "execution_count": 10,
     "metadata": {},
     "output_type": "execute_result"
    },
    {
     "data": {
      "image/png": "[encoded data removed]",
      "text/plain": [
       "<Figure size 1080x360 with 1 Axes>"
      ]
     },
     "metadata": {
      "needs_background": "light"
     },
     "output_type": "display_data"
    },
    {
     "data": {
      "image/png": "[encoded data removed]",
      "text/plain": [
       "<Figure size 1080x360 with 1 Axes>"
      ]
     },
     "metadata": {
      "needs_background": "light"
     },
     "output_type": "display_data"
    }
   ],
   "source": [
    "# Code here\n",
    "borough = accidents_df.groupby('BOROUGH')['DATE'].count()\n",
    "\n",
    "borough_df = pd.DataFrame(index=borough.index, columns=['NACCIDENTS'], data=borough.values)\n",
    "borough_df['NACCPERSKM'] = borough_df.apply(lambda row: round(row['NACCIDENTS']/barea[row.name][0], 2), axis=1)\n",
    "\n",
    "fig, ax = plt.subplots(figsize=(15, 5))\n",
    "plt.bar(borough_df.index, borough_df['NACCIDENTS'])\n",
    "plt.title('Number of accidents per borough')\n",
    "plt.xlabel('Borough')\n",
    "\n",
    "fig, ax = plt.subplots(figsize=(15, 5))\n",
    "plt.bar(borough_df.index, borough_df['NACCPERSKM'])\n",
    "plt.title('Number of accidents per borough per square km')\n",
    "plt.xlabel('Borough')\n",
    "\n",
    "borough_df.head()"
   ]
  },
  {
   "cell_type": "markdown",
   "metadata": {},
   "source": [
    "**Type your answer to the question in this cell**\n",
    "\n",
    "Although Brooklyn has the highest number of accidents in total, Manhattan has the highest number of accidents per square kilometer which is twice the number of accidents of Brooklyn per squere km. "
   ]
  },
  {
   "cell_type": "code",
   "execution_count": null,
   "metadata": {},
   "outputs": [],
   "source": [
    "# Hint: update keys in borough data\n",
    "\n",
    "\n",
    "# Hint: Since there are differences in the text used in the data and Wikipedia data, let's update it\n",
    "\n",
    "# Done above while loading borough area info from Wikipedia\n",
    "\n",
    "\n"
   ]
  },
  {
   "cell_type": "markdown",
   "metadata": {},
   "source": [
    "We have now got the keys to match in the dictionary and the dataframe. The difference in case can be handled by making the mapping action case-insensitive. This can be done by either converting the dictionary keys to uppercase, or the dataframe data to lowercase.\n",
    "\n",
    "Let's do that and plot `accidents_per_sq_km`, which is the accidents-to-area ratio:"
   ]
  },
  {
   "cell_type": "code",
   "execution_count": null,
   "metadata": {
    "scrolled": true
   },
   "outputs": [],
   "source": [
    "# Code here\n",
    "\n",
    "# Done above"
   ]
  },
  {
   "cell_type": "markdown",
   "metadata": {},
   "source": [
    "**Type your answer to the question in this cell**"
   ]
  },
  {
   "cell_type": "markdown",
   "metadata": {},
   "source": [
    "### Part 5: Borough hourly analysis"
   ]
  },
  {
   "cell_type": "markdown",
   "metadata": {},
   "source": [
    "Which hours have the most accidents for each borough? Plot a bar graph for each borough showing the number of accidents for each hour of the day."
   ]
  },
  {
   "cell_type": "markdown",
   "metadata": {},
   "source": [
    "Insert **answer** below:"
   ]
  },
  {
   "cell_type": "code",
   "execution_count": 11,
   "metadata": {},
   "outputs": [
    {
     "data": {
      "text/plain": [
       "Text(0.5, 0, 'Hour')"
      ]
     },
     "execution_count": 11,
     "metadata": {},
     "output_type": "execute_result"
    },
    {
     "data": {
      "image/png": "[encoded data removed]",
      "text/plain": [
       "<Figure size 1080x144 with 1 Axes>"
      ]
     },
     "metadata": {
      "needs_background": "light"
     },
     "output_type": "display_data"
    },
    {
     "data": {
      "image/png": "[encoded data removed]",
      "text/plain": [
       "<Figure size 1080x144 with 1 Axes>"
      ]
     },
     "metadata": {
      "needs_background": "light"
     },
     "output_type": "display_data"
    },
    {
     "data": {
      "image/png": "[encoded data removed]",
      "text/plain": [
       "<Figure size 1080x144 with 1 Axes>"
      ]
     },
     "metadata": {
      "needs_background": "light"
     },
     "output_type": "display_data"
    },
    {
     "data": {
      "image/png": "[encoded data removed]",
      "text/plain": [
       "<Figure size 1080x144 with 1 Axes>"
      ]
     },
     "metadata": {
      "needs_background": "light"
     },
     "output_type": "display_data"
    },
    {
     "data": {
      "image/png": "[encoded data removed]",
      "text/plain": [
       "<Figure size 1080x144 with 1 Axes>"
      ]
     },
     "metadata": {
      "needs_background": "light"
     },
     "output_type": "display_data"
    },
    {
     "data": {
      "image/png": "[encoded data removed]",
      "text/plain": [
       "<Figure size 1080x144 with 1 Axes>"
      ]
     },
     "metadata": {
      "needs_background": "light"
     },
     "output_type": "display_data"
    }
   ],
   "source": [
    "# Code here\n",
    "borough_names = list(barea.columns)\n",
    "\n",
    "# plot per borough\n",
    "for b in borough_names:\n",
    "    bhours_df = accidents_df[accidents_df['BOROUGH'] == b]\n",
    "    bhours = bhours_df.groupby('HOUR')['HOUR'].count()\n",
    "    fig, ax = plt.subplots(figsize=(15,2))\n",
    "    plt.bar(bhours.index, bhours)\n",
    "    plt.title('Number of accidents per hour in '+b)\n",
    "    plt.xlabel('Hour')\n",
    "\n",
    "# plot total  \n",
    "fig, ax = plt.subplots(figsize=(15,2))\n",
    "plt.bar(hours.index, hours)\n",
    "plt.title('Number of accidents per hour TOTAL')\n",
    "plt.xlabel('Hour')"
   ]
  },
  {
   "cell_type": "markdown",
   "metadata": {},
   "source": [
    "**Is the number of accidents higher at different times in different boroughs? Should we concentrate at different times for each borough?**"
   ]
  },
  {
   "cell_type": "markdown",
   "metadata": {},
   "source": [
    "**Type your answer to the question in this cell**\n",
    "\n",
    "**Is the number of accidents higher at different times in different boroughs?**\n",
    "Yes, in Mannhatan the highest is at 14. In Queens, the highest is at 17. In the remaining boroughs is at 16. \n",
    "\n",
    "**Should we concentrate at different times for each borough?**\n",
    "I would say, the difference is not significant, and we should concentrate in general between 14 and 17."
   ]
  },
  {
   "cell_type": "markdown",
   "metadata": {},
   "source": [
    "### Part 6: Cause of accidents"
   ]
  },
  {
   "cell_type": "markdown",
   "metadata": {},
   "source": [
    "What factors cause the most accidents?"
   ]
  },
  {
   "cell_type": "markdown",
   "metadata": {},
   "source": [
    "Insert **answer** below:"
   ]
  },
  {
   "cell_type": "code",
   "execution_count": 12,
   "metadata": {
    "scrolled": true
   },
   "outputs": [
    {
     "data": {
      "text/plain": [
       "Unspecified                                              240164\n",
       "Driver Inattention/Distraction                            72203\n",
       "Failure to Yield Right-of-Way                             20413\n",
       "Following Too Closely                                     17909\n",
       "Backing Unsafely                                          15068\n",
       "Passing Too Closely                                       13378\n",
       "Passing or Lane Usage Improper                            12953\n",
       "Other Vehicular                                           11093\n",
       "Unsafe Lane Changing                                       6986\n",
       "Turning Improperly                                         6798\n",
       "Traffic Control Disregarded                                5146\n",
       "Driver Inexperience                                        4431\n",
       "Unsafe Speed                                               3530\n",
       "Reaction to Uninvolved Vehicle                             3190\n",
       "View Obstructed/Limited                                    2537\n",
       "Alcohol Involvement                                        2514\n",
       "Pavement Slippery                                          2146\n",
       "Oversized Vehicle                                          2023\n",
       "Pedestrian/Bicyclist/Other Pedestrian Error/Confusion      1895\n",
       "Aggressive Driving/Road Rage                               1153\n",
       "Passenger Distraction                                      1053\n",
       "Brakes Defective                                            842\n",
       "Fell Asleep                                                 600\n",
       "Outside Car Distraction                                     572\n",
       "Obstruction/Debris                                          457\n",
       "Glare                                                       447\n",
       "Failure to Keep Right                                       378\n",
       "Steering Failure                                            320\n",
       "Pavement Defective                                          315\n",
       "Illnes                                                      256\n",
       "Driverless/Runaway Vehicle                                  247\n",
       "Tire Failure/Inadequate                                     220\n",
       "Fatigued/Drowsy                                             218\n",
       "Lost Consciousness                                          206\n",
       "Lane Marking Improper/Inadequate                            194\n",
       "Animals Action                                              189\n",
       "Accelerator Defective                                       143\n",
       "Traffic Control Device Improper/Non-Working                 141\n",
       "Drugs (illegal)                                             118\n",
       "Cell Phone (hand-Held)                                       94\n",
       "Physical Disability                                          61\n",
       "Other Lighting Defects                                       40\n",
       "Other Electronic Device                                      31\n",
       "Tow Hitch Defective                                          28\n",
       "Tinted Windows                                               27\n",
       "Vehicle Vandalism                                            24\n",
       "Prescription Medication                                      20\n",
       "Using On Board Navigation Device                             19\n",
       "Headlights Defective                                         17\n",
       "Eating or Drinking                                           16\n",
       "Texting                                                      13\n",
       "Cell Phone (hands-free)                                      12\n",
       "Shoulders Defective/Improper                                  9\n",
       "Windshield Inadequate                                         8\n",
       "Listening/Using Headphones                                    7\n",
       "dtype: int64"
      ]
     },
     "execution_count": 12,
     "metadata": {},
     "output_type": "execute_result"
    }
   ],
   "source": [
    "# Code here\n",
    "contributing_factors = ['CONTRIBUTING FACTOR VEHICLE 1',\n",
    "                        'CONTRIBUTING FACTOR VEHICLE 2',\n",
    "                        'CONTRIBUTING FACTOR VEHICLE 3',\n",
    "                        'CONTRIBUTING FACTOR VEHICLE 4',\n",
    "                        'CONTRIBUTING FACTOR VEHICLE 5']\n",
    "\n",
    "list_of_cofa = []\n",
    "\n",
    "for i in contributing_factors:\n",
    "    list_of_cofa.append(accidents_df[i])\n",
    "\n",
    "pd.concat(list_of_cofa).value_counts()"
   ]
  },
  {
   "cell_type": "markdown",
   "metadata": {},
   "source": [
    "**Type your answer to the question in this cell**\n",
    "\n",
    "Driver Inattention/Distraction is the factor that causes the most accidents, considering all vehicles (1 to 5)"
   ]
  },
  {
   "cell_type": "markdown",
   "metadata": {},
   "source": [
    "### Part 7: Boroughs and vehicle types"
   ]
  },
  {
   "cell_type": "markdown",
   "metadata": {},
   "source": [
    "Which vehicle types are most involved in accidents per borough?"
   ]
  },
  {
   "cell_type": "markdown",
   "metadata": {},
   "source": [
    "Insert **answer** below:"
   ]
  },
  {
   "cell_type": "code",
   "execution_count": 13,
   "metadata": {},
   "outputs": [
    {
     "name": "stdout",
     "output_type": "stream",
     "text": [
      "Borough: BRONX\n",
      "Sedan                                  25714\n",
      "Station Wagon/Sport Utility Vehicle    19185\n",
      "PASSENGER VEHICLE                       6421\n",
      "Name: VEHICLE TYPE CODE, dtype: int64\n",
      "Borough: BROOKLYN\n",
      "Sedan                                  51983\n",
      "Station Wagon/Sport Utility Vehicle    40895\n",
      "PASSENGER VEHICLE                      13480\n",
      "Name: VEHICLE TYPE CODE, dtype: int64\n",
      "Borough: MANHATTAN\n",
      "Sedan                                  25614\n",
      "Station Wagon/Sport Utility Vehicle    19730\n",
      "Taxi                                   10509\n",
      "Name: VEHICLE TYPE CODE, dtype: int64\n",
      "Borough: QUEENS\n",
      "Sedan                                  45987\n",
      "Station Wagon/Sport Utility Vehicle    40500\n",
      "PASSENGER VEHICLE                      11608\n",
      "Name: VEHICLE TYPE CODE, dtype: int64\n",
      "Borough: STATEN ISLAND\n",
      "Sedan                                  6584\n",
      "Station Wagon/Sport Utility Vehicle    4353\n",
      "PASSENGER VEHICLE                      2215\n",
      "Name: VEHICLE TYPE CODE, dtype: int64\n"
     ]
    }
   ],
   "source": [
    "# Code here\n",
    "vehicles_type_code = ['VEHICLE TYPE CODE 1',\n",
    "                      'VEHICLE TYPE CODE 2',\n",
    "                      'VEHICLE TYPE CODE 3',\n",
    "                      'VEHICLE TYPE CODE 4',\n",
    "                      'VEHICLE TYPE CODE 5']\n",
    "\n",
    "list_of_dfs = []\n",
    "for i in vehicles_type_code:\n",
    "    df = accidents_df[[i, 'BOROUGH']]\n",
    "    df.columns = ['VEHICLE TYPE CODE', 'BOROUGH']\n",
    "    list_of_dfs.append(df)\n",
    "    \n",
    "vhtype_df = pd.concat(list_of_dfs)\n",
    "\n",
    "boroughs = list(barea_km.keys())\n",
    "for b in boroughs:\n",
    "    print(\"Borough: \" + b)\n",
    "    print(vhtype_df[vhtype_df['BOROUGH'] == b]['VEHICLE TYPE CODE'].value_counts().head(3))"
   ]
  },
  {
   "cell_type": "markdown",
   "metadata": {},
   "source": [
    "**Type your answer to the question in this cell**\n",
    "\n",
    "SEDAN is the most involved in all boroughs"
   ]
  },
  {
   "cell_type": "markdown",
   "metadata": {},
   "source": [
    "### Part 8: Death counts by vehicle type"
   ]
  },
  {
   "cell_type": "markdown",
   "metadata": {},
   "source": [
    "Calculate the number of deaths by vehicle and plot a bar chart for the top 5 vehicles. Which vehicles are most often involved in deaths, and by how much more than the others?"
   ]
  },
  {
   "cell_type": "markdown",
   "metadata": {},
   "source": [
    "Insert **answer** below:"
   ]
  },
  {
   "cell_type": "code",
   "execution_count": 14,
   "metadata": {},
   "outputs": [
    {
     "data": {
      "text/html": [
       "<div>\n",
       "<style scoped>\n",
       "    .dataframe tbody tr th:only-of-type {\n",
       "        vertical-align: middle;\n",
       "    }\n",
       "\n",
       "    .dataframe tbody tr th {\n",
       "        vertical-align: top;\n",
       "    }\n",
       "\n",
       "    .dataframe thead th {\n",
       "        text-align: right;\n",
       "    }\n",
       "</style>\n",
       "<table border=\"1\" class=\"dataframe\">\n",
       "  <thead>\n",
       "    <tr style=\"text-align: right;\">\n",
       "      <th></th>\n",
       "      <th>NUMBER KILLED</th>\n",
       "    </tr>\n",
       "    <tr>\n",
       "      <th>VEHICLE TYPE CODE</th>\n",
       "      <th></th>\n",
       "    </tr>\n",
       "  </thead>\n",
       "  <tbody>\n",
       "    <tr>\n",
       "      <th>Station Wagon/Sport Utility Vehicle</th>\n",
       "      <td>100</td>\n",
       "    </tr>\n",
       "    <tr>\n",
       "      <th>Sedan</th>\n",
       "      <td>79</td>\n",
       "    </tr>\n",
       "    <tr>\n",
       "      <th>PASSENGER VEHICLE</th>\n",
       "      <td>33</td>\n",
       "    </tr>\n",
       "    <tr>\n",
       "      <th>SPORT UTILITY / STATION WAGON</th>\n",
       "      <td>26</td>\n",
       "    </tr>\n",
       "    <tr>\n",
       "      <th>Motorcycle</th>\n",
       "      <td>22</td>\n",
       "    </tr>\n",
       "    <tr>\n",
       "      <th>Bike</th>\n",
       "      <td>19</td>\n",
       "    </tr>\n",
       "    <tr>\n",
       "      <th>Bus</th>\n",
       "      <td>10</td>\n",
       "    </tr>\n",
       "    <tr>\n",
       "      <th>Pick-up Truck</th>\n",
       "      <td>8</td>\n",
       "    </tr>\n",
       "    <tr>\n",
       "      <th>Box Truck</th>\n",
       "      <td>8</td>\n",
       "    </tr>\n",
       "    <tr>\n",
       "      <th>Taxi</th>\n",
       "      <td>5</td>\n",
       "    </tr>\n",
       "  </tbody>\n",
       "</table>\n",
       "</div>"
      ],
      "text/plain": [
       "                                     NUMBER KILLED\n",
       "VEHICLE TYPE CODE                                 \n",
       "Station Wagon/Sport Utility Vehicle            100\n",
       "Sedan                                           79\n",
       "PASSENGER VEHICLE                               33\n",
       "SPORT UTILITY / STATION WAGON                   26\n",
       "Motorcycle                                      22\n",
       "Bike                                            19\n",
       "Bus                                             10\n",
       "Pick-up Truck                                    8\n",
       "Box Truck                                        8\n",
       "Taxi                                             5"
      ]
     },
     "execution_count": 14,
     "metadata": {},
     "output_type": "execute_result"
    }
   ],
   "source": [
    "# Code here\n",
    "accidents_df['NUMBER KILLED'] = accidents_df['NUMBER OF PEDESTRIANS KILLED'] + \\\n",
    "                                accidents_df['NUMBER OF CYCLIST KILLED'] + \\\n",
    "                                accidents_df['NUMBER OF MOTORIST KILLED']\n",
    "\n",
    "vehicles_type_code = ['VEHICLE TYPE CODE 1',\n",
    "                      'VEHICLE TYPE CODE 2',\n",
    "                      'VEHICLE TYPE CODE 3',\n",
    "                      'VEHICLE TYPE CODE 4',\n",
    "                      'VEHICLE TYPE CODE 5']\n",
    "\n",
    "list_of_dfs = []\n",
    "for i in vehicles_type_code:\n",
    "    df = accidents_df[[i, 'NUMBER KILLED']]\n",
    "    df.columns = ['VEHICLE TYPE CODE', 'NUMBER KILLED']\n",
    "    list_of_dfs.append(df)\n",
    "    \n",
    "killed_vhtype_df = pd.concat(list_of_dfs)\n",
    "\n",
    "all_killed_vhtype_df = killed_vhtype_df.groupby('VEHICLE TYPE CODE').sum().sort_values(by=['NUMBER KILLED'], ascending=False)\n",
    "\n",
    "all_killed_vhtype_df.head(10)"
   ]
  },
  {
   "cell_type": "code",
   "execution_count": 15,
   "metadata": {},
   "outputs": [
    {
     "data": {
      "text/plain": [
       "<matplotlib.axes._subplots.AxesSubplot at 0x1a1907d550>"
      ]
     },
     "execution_count": 15,
     "metadata": {},
     "output_type": "execute_result"
    },
    {
     "data": {
      "image/png": "[encoded data removed]",
      "text/plain": [
       "<Figure size 1080x360 with 1 Axes>"
      ]
     },
     "metadata": {
      "needs_background": "light"
     },
     "output_type": "display_data"
    }
   ],
   "source": [
    "# Code here\n",
    "top_killed_vhtype_df = all_killed_vhtype_df.head(5)\n",
    "\n",
    "fig, ax = plt.subplots(figsize=(15,5))\n",
    "top_killed_vhtype_df.plot.bar(ax=ax)"
   ]
  },
  {
   "cell_type": "markdown",
   "metadata": {},
   "source": [
    "**Type your answer to the question in this cell**"
   ]
  },
  {
   "cell_type": "code",
   "execution_count": null,
   "metadata": {},
   "outputs": [],
   "source": []
  }
 ],
 "metadata": {
  "kernelspec": {
   "display_name": "Python 3",
   "language": "python",
   "name": "python3"
  },
  "language_info": {
   "codemirror_mode": {
    "name": "ipython",
    "version": 3
   },
   "file_extension": ".py",
   "mimetype": "text/x-python",
   "name": "python",
   "nbconvert_exporter": "python",
   "pygments_lexer": "ipython3",
   "version": "3.7.3"
  }
 },
 "nbformat": 4,
 "nbformat_minor": 2
}
